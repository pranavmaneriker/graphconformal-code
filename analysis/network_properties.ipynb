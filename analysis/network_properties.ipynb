{
 "cells": [
  {
   "cell_type": "code",
   "execution_count": null,
   "metadata": {},
   "outputs": [],
   "source": [
    "import os\n",
    "\n",
    "import sys\n",
    "sys.path.append(\"../\")\n",
    "\n",
    "import dgl\n",
    "import pandas as pd\n",
    "import torch\n",
    "import networkx as nx\n",
    "\n",
    "from graph_conformal.constants import CLASSIFICATION_DATASETS, OGBN_DATASETS, LABEL_FIELD, FEATURE_FIELD, OGBN_ARXIV\n",
    "from graph_conformal.data_module import init_graph_dataset"
   ]
  },
  {
   "cell_type": "code",
   "execution_count": null,
   "metadata": {},
   "outputs": [],
   "source": [
    "DATASET_ROOT = \"../datasets\"\n",
    "\n",
    "columns = [\"Nodes\", \"Edges\", \"Classes\", \"Features\", \"\\hat{H}\", \"H_{rand}\"]\n",
    "data = []\n",
    "for dataset in [OGBN_ARXIV]:\n",
    "    print(f\"Dataset: {dataset}\")\n",
    "    temp = []\n",
    "    if dataset in OGBN_DATASETS:\n",
    "        g, labels = init_graph_dataset(dataset, DATASET_ROOT)[0]\n",
    "        g.ndata[LABEL_FIELD] = labels.reshape(-1)\n",
    "    else:\n",
    "        g = init_graph_dataset(dataset, DATASET_ROOT)[0]\n",
    "\n",
    "    temp.append(g.num_nodes())\n",
    "    temp.append(g.num_edges())\n",
    "\n",
    "    labels = g.ndata[LABEL_FIELD]\n",
    "    unique_labels, label_counts = labels.unique(return_counts=True)\n",
    "\n",
    "    temp.append(unique_labels.shape[0])\n",
    "    temp.append(g.ndata[FEATURE_FIELD].shape[-1])\n",
    "\n",
    "    nx_g = dgl.to_networkx(g)\n",
    "\n",
    "    p_k = label_counts / label_counts.sum()\n",
    "    H = sum(\n",
    "        (labels[list(nx_g[v])] == labels[v]).sum().item()\n",
    "        / len(nx_g[v])\n",
    "        if len(nx_g[v]) else 0\n",
    "        for v in range(g.num_nodes())\n",
    "    ) / (g.num_nodes())    \n",
    "    temp.append(H)\n",
    "    H_rand = torch.square(p_k).sum().item()\n",
    "\n",
    "    temp.append(H_rand)\n",
    "    data.append(temp)\n",
    "\n",
    "df = pd.DataFrame(data, columns=columns)\n",
    "df"
   ]
  },
  {
   "cell_type": "code",
   "execution_count": null,
   "metadata": {},
   "outputs": [],
   "source": [
    "df.to_latex()"
   ]
  }
 ],
 "metadata": {
  "kernelspec": {
   "display_name": "fairgraph",
   "language": "python",
   "name": "python3"
  },
  "language_info": {
   "codemirror_mode": {
    "name": "ipython",
    "version": 3
   },
   "file_extension": ".py",
   "mimetype": "text/x-python",
   "name": "python",
   "nbconvert_exporter": "python",
   "pygments_lexer": "ipython3",
   "version": "3.11.5"
  }
 },
 "nbformat": 4,
 "nbformat_minor": 2
}
